{
 "cells": [
  {
   "cell_type": "markdown",
   "metadata": {},
   "source": [
    "# Data preprocessing in pandas\n",
    "\n",
    "pandas.**DataFrame** reference:  \n",
    "https://pandas.pydata.org/pandas-docs/stable/reference/api/pandas.DataFrame.html\n",
    "\n",
    "### 1. Import necessary packages"
   ]
  },
  {
   "cell_type": "code",
   "execution_count": null,
   "metadata": {},
   "outputs": [],
   "source": [
    "import os\n",
    "\n",
    "import numpy as np\n",
    "import pandas as pd\n",
    "import matplotlib.pyplot as plt"
   ]
  },
  {
   "cell_type": "markdown",
   "metadata": {},
   "source": [
    "### 2. Download and import the Adult dataset\n",
    "Follow the link and download the Adult dataset:  \n",
    "https://archive.ics.uci.edu/ml/datasets/Adult\n",
    "\n",
    "Next, load it from file into pandas.**DataFrame**. Docs:  \n",
    "https://pandas.pydata.org/pandas-docs/stable/reference/api/pandas.read_csv.html\n",
    "\n",
    "*Hint* 1: look carefully at the raw data, especially at the delimiters. Inspect pandas.**read_csv** options and find out how to handle this.  \n",
    "*Hint* 2: try setting column names when importing the dataset. Take a look at the dataset description:  \n",
    "https://archive.ics.uci.edu/ml/machine-learning-databases/adult/adult.names"
   ]
  },
  {
   "cell_type": "code",
   "execution_count": null,
   "metadata": {},
   "outputs": [],
   "source": [
    "DATA_DIR = 'data'\n",
    "FILE_NAME = 'adult.data.csv'\n",
    "\n",
    "file_path = os.path.join(DATA_DIR, FILE_NAME)"
   ]
  },
  {
   "cell_type": "code",
   "execution_count": null,
   "metadata": {},
   "outputs": [],
   "source": []
  },
  {
   "cell_type": "markdown",
   "metadata": {},
   "source": [
    "### 3. Get DataFrame dimensions\n",
    "DataFrame dimensions are numbers of records and attributes. See docs:  \n",
    "https://pandas.pydata.org/pandas-docs/stable/reference/api/pandas.DataFrame.shape.html"
   ]
  },
  {
   "cell_type": "code",
   "execution_count": null,
   "metadata": {},
   "outputs": [],
   "source": []
  },
  {
   "cell_type": "markdown",
   "metadata": {},
   "source": [
    "### 4. Print out first and last 5 rows of the DataFrame\n",
    "See docs:  \n",
    "https://pandas.pydata.org/pandas-docs/stable/reference/api/pandas.DataFrame.head.html  \n",
    "https://pandas.pydata.org/pandas-docs/stable/reference/api/pandas.DataFrame.tail.html"
   ]
  },
  {
   "cell_type": "code",
   "execution_count": null,
   "metadata": {},
   "outputs": [],
   "source": []
  },
  {
   "cell_type": "markdown",
   "metadata": {},
   "source": [
    "### 5. Inspect data types of DataFrame columns\n",
    "Docs:  \n",
    "https://pandas.pydata.org/pandas-docs/stable/reference/api/pandas.DataFrame.dtypes.html"
   ]
  },
  {
   "cell_type": "code",
   "execution_count": null,
   "metadata": {},
   "outputs": [],
   "source": []
  },
  {
   "cell_type": "markdown",
   "metadata": {},
   "source": [
    "### 6. Get numbers of unique values in each column\n",
    "Docs:  \n",
    "https://pandas.pydata.org/pandas-docs/stable/reference/api/pandas.DataFrame.nunique.html"
   ]
  },
  {
   "cell_type": "code",
   "execution_count": null,
   "metadata": {
    "scrolled": true
   },
   "outputs": [],
   "source": []
  },
  {
   "cell_type": "markdown",
   "metadata": {},
   "source": [
    "Now, print out all unique values for attribute `'marital-status'`. Docs:  \n",
    "https://pandas.pydata.org/pandas-docs/stable/reference/api/pandas.Series.unique.html"
   ]
  },
  {
   "cell_type": "code",
   "execution_count": null,
   "metadata": {},
   "outputs": [],
   "source": []
  },
  {
   "cell_type": "markdown",
   "metadata": {},
   "source": [
    "### 7. Group attributes by data types"
   ]
  },
  {
   "cell_type": "code",
   "execution_count": null,
   "metadata": {},
   "outputs": [],
   "source": [
    "numeric_fields = ['age']\n",
    "binary_fields = []\n",
    "ordinal_fields = []\n",
    "nominal_fields = []"
   ]
  },
  {
   "cell_type": "markdown",
   "metadata": {},
   "source": [
    "### 8. Count null values in each column\n",
    "Docs:  \n",
    "https://pandas.pydata.org/pandas-docs/stable/reference/api/pandas.DataFrame.isnull.html"
   ]
  },
  {
   "cell_type": "code",
   "execution_count": null,
   "metadata": {},
   "outputs": [],
   "source": []
  },
  {
   "cell_type": "markdown",
   "metadata": {},
   "source": [
    "### 9. Implement functions for counting absolute and relative frequencies of values"
   ]
  },
  {
   "cell_type": "code",
   "execution_count": null,
   "metadata": {},
   "outputs": [],
   "source": [
    "def make_abs_freq_dict(df, column):\n",
    "    return {}\n",
    "\n",
    "\n",
    "def make_rel_freq_dict(df, column):\n",
    "    return {}"
   ]
  },
  {
   "cell_type": "code",
   "execution_count": null,
   "metadata": {},
   "outputs": [],
   "source": []
  },
  {
   "cell_type": "markdown",
   "metadata": {},
   "source": [
    "### 10. Print out absolute value frequencies for binary fields"
   ]
  },
  {
   "cell_type": "code",
   "execution_count": null,
   "metadata": {},
   "outputs": [],
   "source": []
  },
  {
   "cell_type": "markdown",
   "metadata": {},
   "source": [
    "### 11. Print out absolute value frequencies for nominal fields"
   ]
  },
  {
   "cell_type": "code",
   "execution_count": null,
   "metadata": {},
   "outputs": [],
   "source": []
  },
  {
   "cell_type": "markdown",
   "metadata": {},
   "source": [
    "### 12. Find out what columns have missing values\n",
    "*Hint*: see dataset description once again:  \n",
    "https://archive.ics.uci.edu/ml/machine-learning-databases/adult/adult.names"
   ]
  },
  {
   "cell_type": "code",
   "execution_count": null,
   "metadata": {},
   "outputs": [],
   "source": []
  },
  {
   "cell_type": "markdown",
   "metadata": {},
   "source": [
    "### 13. Fill missing values\n",
    "Remember, that the most popular value is used to fill missing values of nominal fields.\n",
    "\n",
    "See docs:  \n",
    "https://pandas.pydata.org/pandas-docs/stable/reference/api/pandas.DataFrame.replace.html"
   ]
  },
  {
   "cell_type": "code",
   "execution_count": null,
   "metadata": {},
   "outputs": [],
   "source": []
  },
  {
   "cell_type": "markdown",
   "metadata": {},
   "source": [
    "### 14. Plot values frequencies for all continuous and categorical fields\n",
    "https://pandas.pydata.org/pandas-docs/stable/reference/api/pandas.DataFrame.hist.html  \n",
    "https://stackoverflow.com/questions/31029560/plotting-categorical-data-with-pandas-and-matplotlib"
   ]
  },
  {
   "cell_type": "code",
   "execution_count": null,
   "metadata": {},
   "outputs": [],
   "source": []
  },
  {
   "cell_type": "markdown",
   "metadata": {},
   "source": [
    "### 15. Merge rare values of nominal fields\n",
    "Let's call values ***rare***, if their relative frequency is **under 1%**. Merge rare values into one. Let's call this value `'OTHER'`. Note that if there is only one rare value, merging is useless. If there are only few rare values, merging does not give much advantage. "
   ]
  },
  {
   "cell_type": "code",
   "execution_count": null,
   "metadata": {},
   "outputs": [],
   "source": []
  },
  {
   "cell_type": "markdown",
   "metadata": {},
   "source": [
    "### 16. Inspect dependencies in fields\n",
    "See docs:  \n",
    "https://pandas.pydata.org/pandas-docs/stable/reference/api/pandas.DataFrame.corr.html  \n",
    "http://seaborn.pydata.org/generated/seaborn.heatmap.html\n",
    "\n",
    "Be sure to drop ducplicates of columns.\n",
    "\n",
    "Docs:  \n",
    "https://pandas.pydata.org/pandas-docs/stable/reference/api/pandas.DataFrame.drop.html  \n",
    "\n",
    "*Hint*: look attentively at the fields `'education'` and `'education-number'`."
   ]
  },
  {
   "cell_type": "code",
   "execution_count": null,
   "metadata": {},
   "outputs": [],
   "source": []
  },
  {
   "cell_type": "markdown",
   "metadata": {},
   "source": [
    "### 17. Scale continuous and ordinal fields\n",
    "Remember, that standardization is used for continuous values, and normalization - for ordinal ones.  \n",
    "\n",
    "The following docs may appear useful:  \n",
    "https://pandas.pydata.org/pandas-docs/stable/reference/api/pandas.DataFrame.min.html  \n",
    "https://pandas.pydata.org/pandas-docs/stable/reference/api/pandas.DataFrame.max.html  \n",
    "https://pandas.pydata.org/pandas-docs/stable/reference/api/pandas.DataFrame.mean.html  \n",
    "https://pandas.pydata.org/pandas-docs/stable/reference/api/pandas.DataFrame.std.html"
   ]
  },
  {
   "cell_type": "code",
   "execution_count": null,
   "metadata": {},
   "outputs": [],
   "source": []
  },
  {
   "cell_type": "markdown",
   "metadata": {},
   "source": [
    "### 18. Validate scaling\n",
    "*Hint*: normalized values must be in range \\[0, 1\\], but standardized ones must have mean equal to 0 and standard deviation equal to 1."
   ]
  },
  {
   "cell_type": "code",
   "execution_count": null,
   "metadata": {},
   "outputs": [],
   "source": []
  },
  {
   "cell_type": "markdown",
   "metadata": {},
   "source": [
    "### 19. Make dummy variables for binary and nominal fields\n",
    "See docs:  \n",
    "https://pandas.pydata.org/pandas-docs/stable/reference/api/pandas.get_dummies.html"
   ]
  },
  {
   "cell_type": "code",
   "execution_count": null,
   "metadata": {},
   "outputs": [],
   "source": []
  },
  {
   "cell_type": "markdown",
   "metadata": {},
   "source": [
    "### 20. Binarize target variable"
   ]
  },
  {
   "cell_type": "code",
   "execution_count": null,
   "metadata": {},
   "outputs": [],
   "source": []
  }
 ],
 "metadata": {
  "kernelspec": {
   "display_name": "Python 3",
   "language": "python",
   "name": "python3"
  },
  "language_info": {
   "codemirror_mode": {
    "name": "ipython",
    "version": 3
   },
   "file_extension": ".py",
   "mimetype": "text/x-python",
   "name": "python",
   "nbconvert_exporter": "python",
   "pygments_lexer": "ipython3",
   "version": "3.6.0"
  }
 },
 "nbformat": 4,
 "nbformat_minor": 2
}
